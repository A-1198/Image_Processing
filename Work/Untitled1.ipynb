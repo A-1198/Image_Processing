{
 "cells": [
  {
   "cell_type": "code",
   "execution_count": 2,
   "id": "aa8404d3",
   "metadata": {},
   "outputs": [],
   "source": [
    "import cv2"
   ]
  },
  {
   "cell_type": "code",
   "execution_count": 3,
   "id": "a70817df",
   "metadata": {},
   "outputs": [],
   "source": [
    "import numpy as np"
   ]
  },
  {
   "cell_type": "code",
   "execution_count": 4,
   "id": "030a568e",
   "metadata": {},
   "outputs": [],
   "source": [
    "#read the image.\n",
    "img = cv2.imread('test1.jpg')"
   ]
  },
  {
   "cell_type": "code",
   "execution_count": 5,
   "id": "aee5c7fb",
   "metadata": {},
   "outputs": [],
   "source": [
    "#change Bg color to Gray Scale\n",
    "img = cv2.cvtColor(img, cv2.COLOR_BGR2GRAY)"
   ]
  },
  {
   "cell_type": "code",
   "execution_count": 6,
   "id": "0a8cc299",
   "metadata": {},
   "outputs": [],
   "source": [
    "#specify block size ; size of a pixel neighborhood that is used to calculate a threshold value for the pixel.(Here 225*255)\n",
    "_, thresh = cv2.threshold(img, 225, 225,cv2.THRESH_BINARY_INV)\n",
    "#increases object area and create new array.\n",
    "kernal = np.ones((2,2), np.uint8)"
   ]
  },
  {
   "cell_type": "code",
   "execution_count": 7,
   "id": "ac4c32c3",
   "metadata": {},
   "outputs": [],
   "source": [
    "#morphological filter to image\n",
    "dilation = cv2.dilate(thresh,kernal, iterations=2)"
   ]
  },
  {
   "cell_type": "code",
   "execution_count": 8,
   "id": "5bbec08b",
   "metadata": {},
   "outputs": [],
   "source": [
    "#find all boundary pts of an obj ; retrieves the outer extreme contours ; detects the borders of obj and localize them in img\n",
    "contours, hierarchy = cv2.findContours(dilation, cv2.RETR_EXTERNAL, cv2.CHAIN_APPROX_SIMPLE)"
   ]
  },
  {
   "cell_type": "code",
   "execution_count": 9,
   "id": "2fa74262",
   "metadata": {},
   "outputs": [],
   "source": [
    "#length of contours\n",
    "objects = str(len(contours))"
   ]
  },
  {
   "cell_type": "code",
   "execution_count": null,
   "id": "a5cb4ded",
   "metadata": {},
   "outputs": [],
   "source": [
    "#create array of dtype as uint8\n",
    "text = \"Obj:\"+str(objects)\n",
    "cv2.putText(dilation, text, (10,25), cv2.FONT_HERSHEY_SIMPLEX, 0.4, (240,0,159), 1)"
   ]
  },
  {
   "cell_type": "code",
   "execution_count": null,
   "id": "4be155d2",
   "metadata": {},
   "outputs": [],
   "source": [
    "#display image\n",
    "cv2.imshow('Original', img)\n",
    "cv2.imshow('Thresh', thresh)\n",
    "cv2.imshow('Dilation',dilation)\n",
    "#wait for 0milis to execute\n",
    "cv2.waitKey(0)\n",
    "cv2.destroyAllWindows()"
   ]
  },
  {
   "cell_type": "code",
   "execution_count": null,
   "id": "3295dd8f",
   "metadata": {},
   "outputs": [],
   "source": []
  }
 ],
 "metadata": {
  "kernelspec": {
   "display_name": "Python 3 (ipykernel)",
   "language": "python",
   "name": "python3"
  },
  "language_info": {
   "codemirror_mode": {
    "name": "ipython",
    "version": 3
   },
   "file_extension": ".py",
   "mimetype": "text/x-python",
   "name": "python",
   "nbconvert_exporter": "python",
   "pygments_lexer": "ipython3",
   "version": "3.9.7"
  }
 },
 "nbformat": 4,
 "nbformat_minor": 5
}
